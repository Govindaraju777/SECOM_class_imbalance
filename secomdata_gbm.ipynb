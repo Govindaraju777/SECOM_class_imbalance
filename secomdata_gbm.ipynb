{
 "cells": [
  {
   "cell_type": "markdown",
   "metadata": {},
   "source": [
    "# Using the Gradient Boosting Classifier for an imbalanced data set\n",
    "\n",
    "Date created: Jan 11, 2017   \n",
    "Last modified: Jan 12, 2017  \n",
    "Tags: GBM, hyperopt, imbalanced data set, semiconductor data   \n",
    "About: Classify imbalanced semicondutor manufacturing data set using the Gradient Boosting Machine. Weight imbalanced classes using `sample_weight`. Tune hyperparameters manually and algorithmically using `hyperopt`."
   ]
  },
  {
   "cell_type": "markdown",
   "metadata": {},
   "source": [
    "<h3>I. Introduction</h3>\n",
    "\n",
    "The [SECOM dataset](http://archive.ics.uci.edu/ml/datasets/SECOM) in the  [UCI Machine Learning Repository](http://archive.ics.uci.edu/ml) is semicondutor manufacturing data. There are 1567 records, 590 anonymized features and 104 fails. This makes it an imbalanced dataset with a 14:1 ratio of pass to fails. The process yield has a simple pass/fail response (encoded -1/1).\n",
    "\n",
    "<h4>Objective</h4>\n",
    "We consider some of the different approaches to classify imbalanced data. There are two strategies available when working with highly imbalanced classes:  \n",
    "\n",
    "- cost sensitive learning (penalizing misclassification of the minority class)\n",
    "- resampling to balance the classes\n",
    "\n",
    "In previous exercises we looked at the [one-class SVM](https://github.com/Meena-Mani/SECOM_class_imbalance/blob/master/secomdata_ocsvm.ipynb) and [SVM+oversampling using SMOTE](https://github.com/Meena-Mani/SECOM_class_imbalance/blob/master/secomdata_svm_smote.ipynb). (The full list of methods we have looked can be found [here](https://github.com/Meena-Mani/SECOM_class_imbalance/blob/master/README.md)). In this exercise we consider the [Gradient Boosting (GBM)](https://en.wikipedia.org/wiki/Gradient_boosting) classifier which is an ensemble method that has been shown to [perform very well](https://www.youtube.com/watch?v=GTs5ZQ6XwUM#t=7m04s) in machine learning competitions. To implement a cost-sensitive GBM, the GBM `fit` method with the `sample_weight` option is used to weigh individual observations.  \n",
    " \n",
    "<h4>Methodology</h4>\n",
    "The *sklearn* [GBM Classifier](http://scikit-learn.org/stable/modules/generated/sklearn.ensemble.GradientBoostingClassifier.html) module uses the `sample_weight` mask to assign a vector of weights to corresponding observations. To balance the two classes, we will weigh them in inverse proportion to their respective class frequencies. \n",
    "\n",
    "At each stage, the boosting algorithm will fit the residuals from the previous step. We need to determine if the data needs to be reweighted in order to get optimal results. We will look at:\n",
    "- the baseline case (with equal class weights)\n",
    "- sample weights (in inverse proportion to the class frequencies)  \n",
    "\n",
    "In addition, since hyperparameter tuning is an important part of GBM performance, we will look at:\n",
    "- Manual selection of parameters\n",
    "- Hyperparameter optimization with cross validation using `hyperopt`\n",
    "- Grid search optimization with cross validation  \n",
    "\n",
    "We will see if any of these three parameter selection methods suggest the use of default versus sample weights.\n",
    "\n",
    "<h4>Preprocessing</h4>\n",
    "Like the Random Forest (RF) classifier, the GBM can handle continuous and categorical varibles and does not require transformations or preprocessing such as one-hot encoding or scaling. The only preprocessing needed is with regards to the missing data.\n",
    "For this data set, the measurements come from a large number of processes or sensors and many of the records are missing. In addition some measurements are identical/constant and so not useful for prediction. We will remove the columns that have high missing counts or constant values and estimate values for the rest of the missing data. These are the same steps used for the [one-class SVM](https://github.com/Meena-Mani/SECOM_class_imbalance/blob/master/secomdata_ocsvm.ipynb) and a more detailed explanation can be seen there. "
   ]
  },
  {
   "cell_type": "code",
   "execution_count": 1,
   "metadata": {
    "collapsed": false
   },
   "outputs": [],
   "source": [
    "import numpy as np\n",
    "import pandas as pd\n",
    "import matplotlib.pyplot as plt\n",
    "import seaborn as sns\n",
    "%matplotlib inline\n",
    "\n",
    "from sklearn.preprocessing import Imputer\n",
    "from sklearn.model_selection import train_test_split as tts\n",
    "from sklearn.model_selection import GridSearchCV\n",
    "from sklearn.model_selection import cross_val_score\n",
    "\n",
    "from sklearn.ensemble import RandomForestClassifier\n",
    "from sklearn.ensemble import GradientBoostingClassifier\n",
    "from sklearn.ensemble import RandomForestClassifier\n",
    " \n",
    "from sklearn.metrics import roc_curve, auc\n",
    "from sklearn.metrics import confusion_matrix, classification_report,\\\n",
    "roc_auc_score, accuracy_score\n",
    "from sklearn.metrics import make_scorer, matthews_corrcoef\n",
    "\n",
    "from time import time\n",
    "from __future__ import division\n",
    "import warnings\n",
    "warnings.filterwarnings(\"ignore\")\n",
    "\n",
    "SEED = 7  # random state"
   ]
  },
  {
   "cell_type": "code",
   "execution_count": 2,
   "metadata": {
    "collapsed": false
   },
   "outputs": [
    {
     "name": "stdout",
     "output_type": "stream",
     "text": [
      "The dataset has 1567 observations/rows and 590 variables/columns.\n",
      "The ratio of majority class to minority class is 14:1.\n"
     ]
    }
   ],
   "source": [
    "url = \"http://archive.ics.uci.edu/ml/machine-learning-databases/secom/secom.data\"\n",
    "secom = pd.read_table(url, header=None, delim_whitespace=True)\n",
    "\n",
    "url = \"http://archive.ics.uci.edu/ml/machine-learning-databases/secom/secom_labels.data\"\n",
    "y = pd.read_table(url, header=None, usecols=[0], squeeze=True, delim_whitespace=True)\n",
    "\n",
    "print 'The dataset has {} observations/rows and {} variables/columns.' \\\n",
    "       .format(secom.shape[0], secom.shape[1])\n",
    "print 'The ratio of majority class to minority class is {}:1.' \\\n",
    "      .format(int(y[y == -1].size/y[y == 1].size))"
   ]
  },
  {
   "cell_type": "markdown",
   "metadata": {},
   "source": [
    "<h3>II. Preprocessing </h3>"
   ]
  },
  {
   "cell_type": "markdown",
   "metadata": {},
   "source": [
    "We process the missing values first, dropping columns which have a large number of missing values and imputing values for those that have only a few missing values.\n",
    "The [one-class SVM](https://github.com/Meena-Mani/SECOM_class_imbalance/blob/master/secomdata_ocsvm.ipynb) exercise has a more detailed version of these steps."
   ]
  },
  {
   "cell_type": "code",
   "execution_count": 3,
   "metadata": {
    "collapsed": false
   },
   "outputs": [
    {
     "name": "stdout",
     "output_type": "stream",
     "text": [
      "The SECOM data set now has 409 variables.\n"
     ]
    }
   ],
   "source": [
    "# dropping columns which have large number of missing entries \n",
    "\n",
    "m = map(lambda x: sum(secom[x].isnull()), xrange(secom.shape[1]))\n",
    "m_200thresh = filter(lambda i: (m[i] > 200), xrange(secom.shape[1]))\n",
    "secom_drop_200thresh = secom.dropna(subset=[m_200thresh], axis=1)\n",
    "dropthese = [x for x in secom_drop_200thresh.columns.values if \\\n",
    "             secom_drop_200thresh[x].std() == 0]\n",
    "secom_drop_200thresh.drop(dropthese, axis=1, inplace=True)\n",
    "\n",
    "print 'The SECOM data set now has {} variables.'\\\n",
    "      .format(secom_drop_200thresh.shape[1])\n",
    "    "
   ]
  },
  {
   "cell_type": "code",
   "execution_count": 4,
   "metadata": {
    "collapsed": true
   },
   "outputs": [],
   "source": [
    "# imputing missing values for the random forest\n",
    "\n",
    "imp = Imputer(missing_values='NaN', strategy='median', axis=0)\n",
    "secom_imp = imp.fit_transform(secom_drop_200thresh)"
   ]
  },
  {
   "cell_type": "markdown",
   "metadata": {},
   "source": [
    "<h3>III. GBM: baseline vs using sample_weight</h3>  \n",
    "\n",
    "We will first compare baseline results with the performance of a model where the `sample_weight` is used. As discussed in [previous exercises](https://github.com/Meena-Mani/SECOM_class_imbalance/blob/master/README.md), the <i>Matthews correlation coefficient (MCC)</i> is used instead of the <i>Accuracy</i> to compute the score."
   ]
  },
  {
   "cell_type": "code",
   "execution_count": 5,
   "metadata": {
    "collapsed": true
   },
   "outputs": [],
   "source": [
    "# split data into train and holdout sets\n",
    "# stratify the sample used for modeling to preserve the class proportions\n",
    "\n",
    "X_train, X_test, y_train, y_test = tts(secom_imp, y, \\\n",
    "                                       test_size=0.2, stratify=y, random_state=5)"
   ]
  },
  {
   "cell_type": "code",
   "execution_count": 6,
   "metadata": {
    "collapsed": false
   },
   "outputs": [],
   "source": [
    "# function to test GBC parameters\n",
    "\n",
    "def GBC(params, weight):\n",
    "    \n",
    "    clf = GradientBoostingClassifier(**params)\n",
    "                            \n",
    "    if weight:\n",
    "        sample_weight = np.array([14 if i == -1 else 1 for i in y_train])\n",
    "        clf.fit(X_train, y_train, sample_weight)\n",
    "    else:\n",
    "        clf.fit(X_train, y_train)\n",
    "    \n",
    "    print_results(clf, X_train, X_test)\n",
    "\n",
    "    \n",
    "# function to print results\n",
    "def print_results(clf, X_train, X_test):        \n",
    "    # training data results  \n",
    "    print 'Training set results:'\n",
    "    y_pred = clf.predict(X_train)\n",
    "    print 'The train set MCC: {0:4.3f}'\\\n",
    "    .format(matthews_corrcoef(y_train, y_pred))\n",
    "    \n",
    "    # test set results\n",
    "    print '\\nTest set results:'\n",
    "    acc = clf.score(X_test, y_test)\n",
    "    print(\"Accuracy: {:.4f}\".format(acc))\n",
    "                             \n",
    "    y_pred = clf.predict(X_test)\n",
    "    print '\\nThe confusion matrix: '\n",
    "    cm = confusion_matrix(y_test, y_pred)\n",
    "    print cm\n",
    "    print '\\nThe test set MCC: {0:4.3f}'\\\n",
    "    .format(matthews_corrcoef(y_test, y_pred))"
   ]
  },
  {
   "cell_type": "markdown",
   "metadata": {},
   "source": [
    "<h4>A) Baseline</h4>"
   ]
  },
  {
   "cell_type": "code",
   "execution_count": 7,
   "metadata": {
    "collapsed": false
   },
   "outputs": [
    {
     "name": "stdout",
     "output_type": "stream",
     "text": [
      "Training set results:\n",
      "The train set MCC: 0.987\n",
      "\n",
      "Test set results:\n",
      "Accuracy: 0.9331\n",
      "\n",
      "The confusion matrix: \n",
      "[[291   2]\n",
      " [ 19   2]]\n",
      "\n",
      "The test set MCC: 0.197\n"
     ]
    }
   ],
   "source": [
    "params = {'n_estimators': 800, 'max_depth': 3, 'subsample': 0.8, 'max_features' : 'sqrt',\n",
    "          'learning_rate': 0.019, 'min_samples_split': 2, 'random_state': SEED}\n",
    "GBC(params, 0)"
   ]
  },
  {
   "cell_type": "markdown",
   "metadata": {},
   "source": [
    "<h4>B) Sample weight</h4>"
   ]
  },
  {
   "cell_type": "code",
   "execution_count": 8,
   "metadata": {
    "collapsed": false
   },
   "outputs": [
    {
     "name": "stdout",
     "output_type": "stream",
     "text": [
      "Training set results:\n",
      "The train set MCC: 0.608\n",
      "\n",
      "Test set results:\n",
      "Accuracy: 0.9140\n",
      "\n",
      "The confusion matrix: \n",
      "[[285   8]\n",
      " [ 19   2]]\n",
      "\n",
      "The test set MCC: 0.097\n"
     ]
    }
   ],
   "source": [
    "# RUN 1 Using the same parameters as the baseline\n",
    "\n",
    "params = {'n_estimators': 800, 'max_depth': 3, 'subsample': 0.8, 'max_features' : 'sqrt', \n",
    "          'learning_rate': 0.019, 'min_samples_split': 2, 'random_state': SEED}\n",
    "GBC(params, 1)"
   ]
  },
  {
   "cell_type": "code",
   "execution_count": 9,
   "metadata": {
    "collapsed": false
   },
   "outputs": [
    {
     "name": "stdout",
     "output_type": "stream",
     "text": [
      "Training set results:\n",
      "The train set MCC: 0.664\n",
      "\n",
      "Test set results:\n",
      "Accuracy: 0.9331\n",
      "\n",
      "The confusion matrix: \n",
      "[[290   3]\n",
      " [ 18   3]]\n",
      "\n",
      "The test set MCC: 0.242\n"
     ]
    }
   ],
   "source": [
    "# RUN 2 Manually selecting parameters to optimize the train/test MCC with sample weights\n",
    "\n",
    "params = {'n_estimators': 800, 'max_depth': 3, 'subsample': 0.7, 'max_features' : 'log2', \n",
    "          'learning_rate': 0.018, 'min_samples_split': 2, 'random_state': SEED}\n",
    "\n",
    "GBC(params, 1)"
   ]
  },
  {
   "cell_type": "markdown",
   "metadata": {},
   "source": [
    "In the baseline case (where we do not adjust the weights), we get a high MCC score for the training set (0.97). The test MCC is 0.197 so there is a large gap between the train and test MCC. When sample weights are used, we get a test set MCC of 0.242 after tuning the parameters. \n",
    "\n",
    "The tuning parameters play a big role in the performance of the GBM. In Section III (D) we will look at the MCC trend over the number of estimators. This will allow us to adjust the complexity of the model. In Sections IV and V  we will use the `hyperopt` and `gridsearchCV` modules to select the hyperparameters."
   ]
  },
  {
   "cell_type": "markdown",
   "metadata": {},
   "source": [
    "<h4>C) Feature importance</h4>  \n",
    "\n",
    "Here we compute the feature importance (using the baseline parameters) for the GBM. We also compare the results with the feature importance for the Random Forest."
   ]
  },
  {
   "cell_type": "code",
   "execution_count": 10,
   "metadata": {
    "collapsed": false
   },
   "outputs": [
    {
     "name": "stdout",
     "output_type": "stream",
     "text": [
      "           GBM                   RF           \n",
      "     Feature # Importance Feature # Importance\n",
      "Rank                                          \n",
      "1           61   0.022117        55   0.016726\n",
      "2           56   0.018574        50   0.010880\n",
      "3           55   0.017534        56   0.010454\n",
      "4          131   0.015305       265   0.009200\n",
      "5           50   0.013360       131   0.008128\n",
      "6           22   0.012942       130   0.008107\n",
      "7          311   0.012862       203   0.008095\n",
      "8           43   0.011589       311   0.007529\n",
      "9          203   0.010597       106   0.007180\n",
      "10          17   0.010526       321   0.007113\n",
      "11          65   0.009741       230   0.007104\n",
      "12         177   0.009733       269   0.006803\n",
      "13         267   0.009610        89   0.006785\n",
      "14          85   0.009479       176   0.006750\n",
      "15         230   0.009351       250   0.006571\n"
     ]
    }
   ],
   "source": [
    "params = {'n_estimators': 800, 'max_depth': 3, 'subsample': 0.8, 'max_features' : 'sqrt', \n",
    "          'learning_rate': 0.019, 'min_samples_split': 2, 'random_state': SEED}\n",
    "\n",
    "# GBM\n",
    "clf = GradientBoostingClassifier(**params)\n",
    "clf.fit(X_train, y_train)\n",
    "gbm_importance = clf.feature_importances_\n",
    "gbm_ranked_indices = np.argsort(clf.feature_importances_)[::-1]\n",
    "\n",
    "# Random Forest\n",
    "rf = RandomForestClassifier(n_estimators=100, random_state=7)\n",
    "rf.fit(X_train, y_train)\n",
    "rf_importance = rf.feature_importances_\n",
    "rf_ranked_indices = np.argsort(rf.feature_importances_)[::-1]\n",
    "\n",
    "# printing results in a table\n",
    "importance_results = pd.DataFrame(index=range(1,16), \n",
    "                                  columns=pd.MultiIndex.from_product([['GBM','RF'],['Feature #','Importance']]))\n",
    "importance_results.index.name = 'Rank'\n",
    "importance_results.loc[:,'GBM'] =  list(zip(gbm_ranked_indices[:15], \n",
    "                                            gbm_importance[gbm_ranked_indices[:15]]))\n",
    "importance_results.loc[:,'RF'] =  list(zip(rf_ranked_indices[:15], \n",
    "                                           rf_importance[rf_ranked_indices[:15]]))\n",
    "print importance_results"
   ]
  },
  {
   "cell_type": "markdown",
   "metadata": {},
   "source": [
    "Roughly half the top fifteen most important features for the GBM were also the top fifteen computed for the Random Forest classifier. There are complex interactions between the parameters so we do not expect the two classifiers to give the same results. In Section IV where we optimize the hyperparameters, the `nvar` (number of variables) parameter will select variables according to their ranked importance."
   ]
  },
  {
   "cell_type": "markdown",
   "metadata": {},
   "source": [
    "<h4>D) Number of estimators -- model complexity</h4>\n",
    "\n",
    "The GBM sequentially fits the function and the number of steps (the number of estimators) is specified by the `ntree` parameter. At some stage, the model complexity increases to the point where we start overfitting the data. Here we will plot the MCC as a function of the number of estimators for the train set and test set to determine a good value for `ntree`.   \n",
    "\n",
    "When <i>Accuracy</i> is used as score, a plot of <i>Classification Error</i> (= <i>1 - Accuracy</i>) versus the <i>Number of Trees</i> can be used as a diagnostic to determine bias and overfitting. The term <i>(1 - MCC)</i>, however, is hard to interpret since MCC is calculated with all four terms of the confusion matrix. (I did make those plots out of curiosity and the trends are similar to those seen in an \"Error vs no. of estimators\" plot an example of which is presented on Slide 3 of [this](https://lagunita.stanford.edu/c4x/HumanitiesScience/StatLearning/asset/cv_boot.pdf) Hastie/Tibshirani lecture)."
   ]
  },
  {
   "cell_type": "code",
   "execution_count": 11,
   "metadata": {
    "collapsed": false
   },
   "outputs": [],
   "source": [
    "# function to compute MCC vs number of trees\n",
    "\n",
    "def GBC_trend(weight):\n",
    "    base_params = {'max_depth': 3, 'subsample': 0.8, 'max_features' : 'sqrt',\n",
    "                   'learning_rate': 0.019, 'min_samples_split': 2, 'random_state': SEED}\n",
    "\n",
    "    mcc_train = []\n",
    "    mcc_test = []\n",
    "\n",
    "    for i in range(500, 1600, 100):\n",
    "        params = dict(base_params)\n",
    "        ntrees = {'n_estimators': i}\n",
    "        params.update(ntrees)\n",
    "    \n",
    "        clf = GradientBoostingClassifier(**params)\n",
    "        if weight:\n",
    "            sample_weight = np.array([14 if i == -1 else 1 for i in y_train])\n",
    "            clf.fit(X_train, y_train, sample_weight)\n",
    "        else:\n",
    "            clf.fit(X_train, y_train)\n",
    "    \n",
    "        y_pred_train = clf.predict(X_train)\n",
    "        mcc_train.append(matthews_corrcoef(y_train, y_pred_train))\n",
    "        y_pred_test = clf.predict(X_test)\n",
    "        mcc_test.append(matthews_corrcoef(y_test, y_pred_test))\n",
    "    \n",
    "    return mcc_train, mcc_test"
   ]
  },
  {
   "cell_type": "code",
   "execution_count": 12,
   "metadata": {
    "collapsed": false
   },
   "outputs": [
    {
     "data": {
      "image/png": "[encoded data removed]",
      "text/plain": [
       "<matplotlib.figure.Figure at 0x1055cce90>"
      ]
     },
     "metadata": {},
     "output_type": "display_data"
    }
   ],
   "source": [
    "# plot\n",
    "\n",
    "fig, ax = plt.subplots(1, 2, sharex=True, sharey=True, figsize=(7,4))\n",
    "plt.style.use('ggplot')\n",
    "\n",
    "mcc_train, mcc_test = GBC_trend(0)\n",
    "ax[0].plot(range(500, 1600, 100), mcc_train, color='magenta', label='train MCC' )\n",
    "ax[0].plot(range(500, 1600, 100), mcc_test, color='olive', label='test MCC' )\n",
    "ax[0].set_title('For default weights')\n",
    "\n",
    "mcc_train, mcc_test = GBC_trend(1)\n",
    "ax[1].plot(range(500, 1600, 100), mcc_train, color='magenta', label='train MCC' )\n",
    "ax[1].plot(range(500, 1600, 100), mcc_test, color='olive', label='test MCC' )\n",
    "ax[1].set_title('For sample weights')\n",
    "\n",
    "ax[0].set_ylabel('MCC')\n",
    "fig.text(0.5, 0.04, 'Boosting Iterations', ha='center', va='center')\n",
    "plt.xlim(500,1500)\n",
    "plt.ylim(-0.1, 1.1);\n",
    "plt.legend(bbox_to_anchor=(1.05, 0), loc='lower left');"
   ]
  },
  {
   "cell_type": "markdown",
   "metadata": {},
   "source": [
    "Default weight option (left): After about 900 iterations, the GBM models all the training data perfectly. At the same time, there is a large gap in the holdout data classification results.  This is a classic case of overfitting.  \n",
    "\n",
    "Sample weight option (right): This plot was constructed using the same parameters at the default weight plot. This may account for some of the bias (lower values for MCC) we see for the training data line. From III B, we can see that even when we tune the parameters for the sample weight model, the MCC for the training set is lower that for the default weight model. This gives us some indication that using sample weights adds bias."
   ]
  },
  {
   "cell_type": "markdown",
   "metadata": {},
   "source": [
    "<h3>IV. Hyperparameter optimization using Hyperopt</h3>  \n",
    "\n",
    "The python `hyperopt` module by James Bergstra uses Bayesian optimization (based on a tree-structured Parzen density estimate--TPE) <a href=\"#ref1\">[1]</a> to automatically select the best hyperparameters. [This](https://districtdatalabs.silvrback.com/parameter-tuning-with-hyperopt) blog post provides examples of how this can be used with <i>sklearn</i> classifiers. We will use the <i>MCC</i> instead of the <i>Accuracy</i> for the cross-validation score. Note that since the `hyperopt` function `fmin` will minimze the MCC, we need to negate the MCC to maximize its value."
   ]
  },
  {
   "cell_type": "code",
   "execution_count": 13,
   "metadata": {
    "collapsed": false
   },
   "outputs": [],
   "source": [
    "# defining the MCC metric to assess cross-validation\n",
    "\n",
    "def mcc_score(y_true, y_pred):\n",
    "    mcc = matthews_corrcoef(y_true, y_pred)\n",
    "    return mcc\n",
    "    \n",
    "mcc_scorer = make_scorer(mcc_score, greater_is_better=True)"
   ]
  },
  {
   "cell_type": "code",
   "execution_count": 14,
   "metadata": {
    "collapsed": true
   },
   "outputs": [],
   "source": [
    "# convert to DataFrame for easy indexing of number of variables (nvar)\n",
    "\n",
    "X_train = pd.DataFrame(X_train)\n",
    "X_test = pd.DataFrame(X_test)"
   ]
  },
  {
   "cell_type": "code",
   "execution_count": 15,
   "metadata": {
    "collapsed": false
   },
   "outputs": [],
   "source": [
    "from hyperopt import fmin, tpe, hp, STATUS_OK, Trials\n",
    "\n",
    "def hyperopt_train_test(params):\n",
    "    \n",
    "    weight = params['weight']\n",
    "    X_ = X_train.loc[:, gbm_ranked_indices[:params['nvar']]]\n",
    "    del params['nvar'], params['weight']\n",
    "   \n",
    "    clf = GradientBoostingClassifier(**params)\n",
    "    if weight:\n",
    "        sample_weight = np.array([14 if i == -1 else 1 for i in y_train])\n",
    "        return cross_val_score(clf, X_, y_train, scoring=mcc_scorer,\\\n",
    "                               fit_params={'sample_weight': sample_weight}).mean()\n",
    "    else: \n",
    "       return cross_val_score(clf, X_, y_train, scoring=mcc_scorer).mean()\n",
    "\n",
    "space = {\n",
    "    'n_estimators': hp.choice('n_estimators', range(700,1300, 100)),\n",
    "    'max_features': hp.choice('max_features',  ['sqrt', 'log2']),\n",
    "    'max_depth': hp.choice('max_depth', range(2,5)),\n",
    "    'subsample': hp.choice('subsample', [0.6, 0.7, 0.8, 0.9]),\n",
    "    'min_samples_split': hp.choice('min_samples_split', [2, 3]), \n",
    "    'learning_rate': hp.choice('learning_rate', [0.01, 0.015, 0.018, 0.02, 0.025]),\n",
    "    'nvar': hp.choice('nvar', [200, 300, 400]),\n",
    "    'weight': hp.choice('weight', [0, 1]),  # select sample_weight or default\n",
    "    'random_state': SEED\n",
    " }  \n",
    "\n",
    "def f(params):\n",
    "    mcc = hyperopt_train_test(params)\n",
    "    # with a negative sign, we maximize the MCC\n",
    "    return {'loss': -mcc, 'status': STATUS_OK}"
   ]
  },
  {
   "cell_type": "markdown",
   "metadata": {},
   "source": [
    "<h4>Run 1</h4>"
   ]
  },
  {
   "cell_type": "code",
   "execution_count": 22,
   "metadata": {
    "collapsed": false
   },
   "outputs": [
    {
     "name": "stdout",
     "output_type": "stream",
     "text": [
      "HyperoptCV took 369.96 seconds.\n",
      "\n",
      "Best parameters (by index):\n",
      "{'weight': 1, 'nvar': 0, 'learning_rate': 2, 'n_estimators': 5, 'subsample': 1, 'min_samples_split': 1, 'max_features': 1, 'max_depth': 1}\n"
     ]
    }
   ],
   "source": [
    "start = time()\n",
    "trials = Trials()\n",
    "best = fmin(f, space, algo=tpe.suggest, max_evals=100, trials=trials)\n",
    "print(\"HyperoptCV took %.2f seconds.\"% (time() - start))\n",
    "print '\\nBest parameters (by index):'\n",
    "print best"
   ]
  },
  {
   "cell_type": "markdown",
   "metadata": {},
   "source": [
    "We will apply the optimal hyperparameters selected via `hyperopt` above to the GBM classifier. The optimal parameters include `nvar`= 200 and the use of `sample_weight`."
   ]
  },
  {
   "cell_type": "code",
   "execution_count": 23,
   "metadata": {
    "collapsed": false
   },
   "outputs": [
    {
     "name": "stdout",
     "output_type": "stream",
     "text": [
      "Training set results:\n",
      "The train set MCC: 0.773\n",
      "\n",
      "Test set results:\n",
      "Accuracy: 0.8949\n",
      "\n",
      "The confusion matrix: \n",
      "[[280  13]\n",
      " [ 20   1]]\n",
      "\n",
      "The test set MCC: 0.004\n"
     ]
    }
   ],
   "source": [
    "params = {'n_estimators': 1200, 'max_depth': 3, 'subsample': 0.7, 'max_features' : 'log2', \n",
    "          'learning_rate': 0.018, 'min_samples_split': 3, 'random_state': SEED}\n",
    "\n",
    "train_ = X_train.loc[:, gbm_ranked_indices[:200]]\n",
    "test_ = X_test.loc[:, gbm_ranked_indices[:200]]\n",
    "\n",
    "clf = GradientBoostingClassifier(**params)\n",
    "sample_weight = np.array([14 if i == -1 else 1 for i in y_train])\n",
    "clf.fit(train_, y_train, sample_weight)\n",
    "        \n",
    "print_results(clf, train_, test_)"
   ]
  },
  {
   "cell_type": "markdown",
   "metadata": {},
   "source": [
    "<h4>Run 2</h4>  \n",
    "I repeated the run with `hyperopt` a few times and in each case the optimal parameters include `nvar`= 200 and the use of `sample_weight`.  There is a great deal of variability among the remaining parameters selected across the runs. This is an example of a second run."
   ]
  },
  {
   "cell_type": "code",
   "execution_count": 24,
   "metadata": {
    "collapsed": false
   },
   "outputs": [
    {
     "name": "stdout",
     "output_type": "stream",
     "text": [
      "\n",
      "Best parameters (by index):\n",
      "{'weight': 1, 'nvar': 0, 'learning_rate': 2, 'n_estimators': 0, 'subsample': 2, 'min_samples_split': 0, 'max_features': 1, 'max_depth': 2}\n"
     ]
    }
   ],
   "source": [
    "trials = Trials()\n",
    "best = fmin(f, space, algo=tpe.suggest, max_evals=100, trials=trials)\n",
    "print '\\nBest parameters (by index):'\n",
    "print best"
   ]
  },
  {
   "cell_type": "code",
   "execution_count": 25,
   "metadata": {
    "collapsed": false
   },
   "outputs": [
    {
     "name": "stdout",
     "output_type": "stream",
     "text": [
      "Training set results:\n",
      "The train set MCC: 0.741\n",
      "\n",
      "Test set results:\n",
      "Accuracy: 0.9045\n",
      "\n",
      "The confusion matrix: \n",
      "[[282  11]\n",
      " [ 19   2]]\n",
      "\n",
      "The test set MCC: 0.072\n"
     ]
    }
   ],
   "source": [
    "params = {'n_estimators': 700, 'max_depth': 4, 'subsample': 0.8, 'max_features' : 'log2', \n",
    "          'learning_rate': 0.018, 'min_samples_split': 2, 'random_state': SEED}\n",
    "\n",
    "train_ = X_train.loc[:, gbm_ranked_indices[:200]]\n",
    "test_ = X_test.loc[:, gbm_ranked_indices[:200]]\n",
    "\n",
    "clf = GradientBoostingClassifier(**params)\n",
    "sample_weight = np.array([14 if i == -1 else 1 for i in y_train])\n",
    "clf.fit(train_, y_train, sample_weight)\n",
    "        \n",
    "print_results(clf, train_, test_)"
   ]
  },
  {
   "cell_type": "markdown",
   "metadata": {},
   "source": [
    "<h4> Run 3 -- default weight</h4>  \n",
    "For both Run 1 and Run 2, `hyperopt` selected the `sample_weight` option. This was the case for most of the runs though there were a few instances in which the default option was selected. This is an example:"
   ]
  },
  {
   "cell_type": "code",
   "execution_count": 31,
   "metadata": {
    "collapsed": false
   },
   "outputs": [
    {
     "name": "stdout",
     "output_type": "stream",
     "text": [
      "HyperoptCV took 370.07 seconds.\n",
      "\n",
      "Best parameters (by index):\n",
      "{'weight': 0, 'nvar': 0, 'learning_rate': 4, 'n_estimators': 3, 'subsample': 3, 'min_samples_split': 1, 'max_features': 1, 'max_depth': 0}\n"
     ]
    }
   ],
   "source": [
    "start = time()\n",
    "trials = Trials()\n",
    "best = fmin(f, space, algo=tpe.suggest, max_evals=100, trials=trials)\n",
    "print(\"HyperoptCV took %.2f seconds.\"% (time() - start))\n",
    "print '\\nBest parameters (by index):'\n",
    "print best"
   ]
  },
  {
   "cell_type": "code",
   "execution_count": 32,
   "metadata": {
    "collapsed": false
   },
   "outputs": [
    {
     "name": "stdout",
     "output_type": "stream",
     "text": [
      "Training set results:\n",
      "The train set MCC: 0.913\n",
      "\n",
      "Test set results:\n",
      "Accuracy: 0.9204\n",
      "\n",
      "The confusion matrix: \n",
      "[[287   6]\n",
      " [ 19   2]]\n",
      "\n",
      "The test set MCC: 0.119\n"
     ]
    }
   ],
   "source": [
    "params = {'n_estimators': 1000, 'max_depth': 2, 'subsample': 0.9, 'max_features' : 'log2', \n",
    "          'learning_rate': 0.025, 'min_samples_split': 3, 'random_state': SEED}\n",
    "\n",
    "train_ = X_train.loc[:, gbm_ranked_indices[:200]]\n",
    "test_ = X_test.loc[:, gbm_ranked_indices[:200]]\n",
    "\n",
    "clf = GradientBoostingClassifier(**params)\n",
    "clf.fit(train_, y_train)\n",
    "    \n",
    "print_results(clf, train_, test_)"
   ]
  },
  {
   "cell_type": "markdown",
   "metadata": {},
   "source": [
    "The results from `hyperopt` (tested over ten or more runs) were quite variable and no conclusions can be made. By seeding the `random_state` parameter, we should be able to get reproducible results but since this was not the case here, we will need to investigate this further."
   ]
  },
  {
   "cell_type": "markdown",
   "metadata": {},
   "source": [
    "<h3>V. Grid search with cross-validation</h3>"
   ]
  },
  {
   "cell_type": "code",
   "execution_count": 11,
   "metadata": {
    "collapsed": false
   },
   "outputs": [],
   "source": [
    "# cv function\n",
    "\n",
    "def GBMCV(weight):\n",
    "    \n",
    "    clf = GradientBoostingClassifier(random_state=SEED)\n",
    "\n",
    "    param_grid = {\"n_estimators\": [800, 900, 1000, 1200],\n",
    "                  \"max_depth\": [2, 3],\n",
    "                  \"subsample\": [0.6, 0.7, 0.8],\n",
    "                  \"min_samples_split\": [2, 3],\n",
    "                  \"max_features\": [\"sqrt\", \"log2\"],\n",
    "                  \"learning_rate\": [0.01, 0.015, 0.018, 0.02, 0.025]}\n",
    "              \n",
    "    # run grid search\n",
    "    if weight:\n",
    "        sample_weight = np.array([14 if i == -1 else 1 for i in y_train])\n",
    "        grid_search = GridSearchCV(clf, param_grid=param_grid,  scoring=mcc_scorer, \\\n",
    "                                   fit_params={'sample_weight': sample_weight})\n",
    "    else:\n",
    "        grid_search = GridSearchCV(clf, param_grid=param_grid,  scoring=mcc_scorer)\n",
    "        \n",
    "    start = time()\n",
    "    grid_search.fit(X_train, y_train)\n",
    "\n",
    "    # print results\n",
    "    print(\"GridSearchCV took %.2f seconds for %d candidate parameter settings.\"\n",
    "     % (time() - start, len(grid_search.grid_scores_)))\n",
    "\n",
    "    print 'The best parameters:'\n",
    "    print '{}\\n'. format(grid_search.best_params_)\n",
    "\n",
    "    print 'Results for model fitted with the best parameter:'\n",
    "    y_true, y_pred = y_test, grid_search.predict(X_test)\n",
    "    print(classification_report(y_true, y_pred))\n",
    "\n",
    "    print 'The confusion matrix: '\n",
    "    cm = confusion_matrix(y_true, y_pred)\n",
    "    print cm\n",
    "\n",
    "    print '\\nThe Matthews correlation coefficient: {0:4.3f}'\\\n",
    "    .format(matthews_corrcoef(y_test, y_pred))"
   ]
  },
  {
   "cell_type": "code",
   "execution_count": 14,
   "metadata": {
    "collapsed": false
   },
   "outputs": [
    {
     "name": "stdout",
     "output_type": "stream",
     "text": [
      "CV with default weights:\n",
      "GridSearchCV took 1802.75 seconds for 480 candidate parameter settings.\n",
      "The best parameters:\n",
      "{'subsample': 0.7, 'learning_rate': 0.025, 'n_estimators': 1000, 'min_samples_split': 3, 'max_features': 'sqrt', 'max_depth': 2}\n",
      "\n",
      "Results for model fitted with the best parameter:\n",
      "             precision    recall  f1-score   support\n",
      "\n",
      "         -1       0.94      0.99      0.96       293\n",
      "          1       0.25      0.05      0.08        21\n",
      "\n",
      "avg / total       0.89      0.93      0.90       314\n",
      "\n",
      "The confusion matrix: \n",
      "[[290   3]\n",
      " [ 20   1]]\n",
      "\n",
      "The Matthews correlation coefficient: 0.083\n"
     ]
    }
   ],
   "source": [
    "# CV with default weights\n",
    "\n",
    "print \"CV with default weights:\"\n",
    "GBMCV(0)"
   ]
  },
  {
   "cell_type": "code",
   "execution_count": 10,
   "metadata": {
    "collapsed": false
   },
   "outputs": [
    {
     "name": "stdout",
     "output_type": "stream",
     "text": [
      "The best parameters:\n",
      "{'subsample': 0.8, 'learning_rate': 0.02, 'n_estimators': 800, 'min_samples_split': 3, 'max_features': 'sqrt', 'max_depth': 2}\n",
      "\n",
      "Results for model fitted with the best parameter:\n",
      "             precision    recall  f1-score   support\n",
      "\n",
      "         -1       0.93      0.96      0.95       293\n",
      "          1       0.08      0.05      0.06        21\n",
      "\n",
      "avg / total       0.88      0.90      0.89       314\n",
      "\n",
      "The confusion matrix: \n",
      "[[282  11]\n",
      " [ 20   1]]\n",
      "\n",
      "The Matthews correlation coefficient: 0.013\n"
     ]
    }
   ],
   "source": [
    "# CV with sample weights\n",
    "\n",
    "GBMCV(1)"
   ]
  },
  {
   "cell_type": "markdown",
   "metadata": {
    "collapsed": true
   },
   "source": [
    "<h3>VI. Summary</h3>\n",
    "\n",
    "In this exercise the GBM was used to classify imbalanced data. In looking at the GBM classifier we need to consider the following:\n",
    "(1) whether the GBM is superior to other methods we have looked at and\n",
    "(2) whether reweighting with sample weights will improve classification results\n",
    "\n",
    "On the issue of the GBM classifier performance (classification results/time/ease of use) it should be noted that tuning the GBM is no simple matter as there are many complex interactions between the parameters. We use the three methods -- manual selection, automatic hyperparameter optimization using a Bayesian strategy and grid search cross validation -- available but they give variable results. At the same time the best classification results obtained (an MCC of 0.24 for the holdout data) show that there is no obvious advantage to using the GBM over a simpler sampling strategy (see [SVM+undersampling](https://github.com/Meena-Mani/SECOM_class_imbalance/blob/master/secomdata_svm_undersampling.ipynb)).\n",
    "\n",
    "On the question of rebalancing with `sample_weight`, once again it is not clear that rebalancing gives better results. When the parameters were manually selected, both the default and weighted GBM showed results comparable to other classifiers such as the [Random Forest](https://github.com/Meena-Mani/SECOM_class_imbalance/blob/master/secomdata_rf.ipynb). The `hyperopt` selected the sample_weight over the default in at least 9/10 runs (not all runs are shown in Section IV) but the holdout MCC was not good (e.g. 0.004). For the gridsearch crossvalidation, results for default vs sample_weight were comparable.\n",
    "\n",
    "In previous exercises we had experimented with [SVM+oversampling using SMOTE](https://github.com/Meena-Mani/SECOM_class_imbalance/blob/master/secomdata_svm_smote.ipynb) and [SVM+undersampling](https://github.com/Meena-Mani/SECOM_class_imbalance/blob/master/secomdata_svm_undersampling.ipynb). Our experiments thus far indicate that SVM combined with a sampling strategy holds promise and we  will next look at a combination of oversampling (the minority class) and undersampling (the majority class)."
   ]
  },
  {
   "cell_type": "markdown",
   "metadata": {},
   "source": [
    "<h3>VII. References and Further Reading </h3>\n",
    "\n",
    "<a name=\"ref1\"></a>[1] [Bergstra, James S., et al. “Algorithms for hyper-parameter optimization.” Advances in Neural Information Processing Systems. (2011)](http://papers.nips.cc/paper/4443-algorithms-for-hyper-parameter-optimization.pdf)"
   ]
  },
  {
   "cell_type": "markdown",
   "metadata": {},
   "source": [
    "<div style=\"background-color: #FAAC58; margin-left: 0px; margin-right: 20px; padding-bottom: 8px; padding-left: 8px; padding-right: 8px; padding-top: 8px;\">\n",
    "\n",
    "\n",
    "Author:  Meena Mani  <br>\n",
    "email:   meenas.mailbag@gmail.com   <br> \n",
    "twitter: @meena_uvaca    <br>\n",
    "</div>"
   ]
  }
 ],
 "metadata": {
  "kernelspec": {
   "display_name": "Python 2",
   "language": "python",
   "name": "python2"
  },
  "language_info": {
   "codemirror_mode": {
    "name": "ipython",
    "version": 2
   },
   "file_extension": ".py",
   "mimetype": "text/x-python",
   "name": "python",
   "nbconvert_exporter": "python",
   "pygments_lexer": "ipython2",
   "version": "2.7.8"
  }
 },
 "nbformat": 4,
 "nbformat_minor": 0
}
