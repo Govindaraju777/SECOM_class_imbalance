{
 "cells": [
  {
   "cell_type": "markdown",
   "metadata": {},
   "source": [
    "# Using the Random Forest Classifier for an imbalanced data set\n",
    "\n",
    "Date created: Nov 10, 2016   \n",
    "Last modified: Jan 13, 2017  \n",
    "Tags: Random Forest, imbalanced data set, semiconductor data   \n",
    "About: Classify using the Random Forest Classifier. Weight imbalanced semicondutor manufacturing dataset using class_weights. "
   ]
  },
  {
   "cell_type": "markdown",
   "metadata": {},
   "source": [
    "<h3>I. Introduction</h3>\n",
    "\n",
    "The [SECOM dataset](http://archive.ics.uci.edu/ml/datasets/SECOM) in the  [UCI Machine Learning Repository](http://archive.ics.uci.edu/ml) is semicondutor manufacturing data. There are 1567 records, 590 anonymized features and 104 fails. This makes it an imbalanced dataset with a 14:1 ratio of pass to fails. The process yield has a simple pass/fail response (encoded -1/1).\n",
    "\n",
    "<h4>Objective</h4>\n",
    "We consider some of the different approaches to classify imbalanced data. In previous exercises we looked at the [one-class SVM](https://github.com/Meena-Mani/SECOM_class_imbalance/blob/master/secomdata_ocsvm.ipynb) and [SVM+oversampling using SMOTE](https://github.com/Meena-Mani/SECOM_class_imbalance/blob/master/secomdata_svm_smote.ipynb). In this exercise we consider the Random Forest (RF) classifier.  \n",
    "\n",
    "The RF classifier is an ensemble method that has been shown to perform very well. A 2014 paper compared 179 classifiers on 121 data sets in the UCI repository and found that the RF was the most accurate classifier overall <a href=\"#ref1\">[1]</a>.  The algorithm has been designed with the assumption that the classes are equally balanced. With imbalanced data, however, the overall error rate and prediction accuracy is skewed to the majority class. To correct for this, two strategies are available for highly imbalanced classes:  \n",
    "<ol>\n",
    "<li> cost sensitive learning (penalizing misclassification of the minority class)\n",
    "<li> resampling to balance the classes\n",
    "</ol>\n",
    "\n",
    "We will look at the first of these by reweighting the observations. The two classes will be weighted in inverse proportion to their respective class frequencies so that a heavier penalty is assigned to the misclassification of the minority class. The class weights are incorporated into the RF algorithm in two places. The first is to weight the gini criterion when splitting the data; the second is to weight the majority vote in the terminal nodes which is then aggregated for the final prediction.\n",
    " \n",
    "<h4>Methodology</h4>\n",
    "There are two parameters in the *sklearn* [Random Forest Classifier](http://scikit-learn.org/stable/modules/generated/sklearn.ensemble.RandomForestClassifier.html) module to weight the classes. These are `class_weight` and\n",
    "`sample_weight`. The RF is an ensemble of decision trees, so these options have been derived from the [implementions for the decision tree](http://scikit-learn.org/stable/modules/generated/sklearn.tree.DecisionTreeClassifier.html#sklearn.tree.DecisionTreeClassifier).\n",
    "\n",
    "We will look at the following:\n",
    "- Baseline case (where the RF has equal weights)\n",
    "- Class weights (in inverse proportion to the class frequencies)\n",
    "- Sample weights (in inverse proportion to the class frequencies)\n",
    "- Matthews correlation coefficient as a score\n",
    "- Efficacy of the OOB estimate and CV to select class weights\n",
    "- ROC curves\n",
    "- Performance of parsimonious models \n",
    "\n",
    "\n",
    "<h4>Preprocessing</h4>\n",
    "The Random Forest (RF) classifier can handle continuous and categorical varibles and does not require transformations or preprocessing such as one-hot encoding or scaling. The only preprocessing needed is with regards to the missing data.\n",
    "\n",
    "For this data set, the measurements come from a large number of processes or sensors and many of the records are missing. In addition some measurements are identical/constant and so not useful for prediction. We will remove the columns that have high missing counts or constant values and estimate values for the rest of the missing data. These are the same steps used for the [one-class SVM](https://github.com/Meena-Mani/SECOM_class_imbalance/blob/master/secomdata_ocsvm.ipynb) and a more detailed explanation can be seen there. "
   ]
  },
  {
   "cell_type": "code",
   "execution_count": 1,
   "metadata": {
    "collapsed": false
   },
   "outputs": [],
   "source": [
    "import numpy as np\n",
    "import pandas as pd\n",
    "import matplotlib.pyplot as plt\n",
    "import seaborn as sns\n",
    "%matplotlib inline\n",
    "\n",
    "from sklearn.preprocessing import Imputer\n",
    "from sklearn.model_selection import train_test_split as tts # sklearn 0.18.1\n",
    "from sklearn.model_selection import GridSearchCV # sklearn 0.18.1\n",
    "\n",
    "from sklearn.ensemble import RandomForestClassifier\n",
    " \n",
    "from sklearn.metrics import roc_curve, auc\n",
    "from sklearn.metrics import confusion_matrix, \\\n",
    "classification_report, accuracy_score\n",
    "from sklearn.metrics import make_scorer, matthews_corrcoef\n",
    "\n",
    "from time import time\n",
    "from __future__ import division\n",
    "import warnings\n",
    "warnings.filterwarnings(\"ignore\")"
   ]
  },
  {
   "cell_type": "code",
   "execution_count": 2,
   "metadata": {
    "collapsed": false
   },
   "outputs": [
    {
     "name": "stdout",
     "output_type": "stream",
     "text": [
      "The dataset has 1567 observations/rows and 590 variables/columns.\n",
      "The ratio of majority class to minority class is 14:1.\n"
     ]
    }
   ],
   "source": [
    "url = \"http://archive.ics.uci.edu/ml/machine-learning-databases/secom/secom.data\"\n",
    "secom = pd.read_table(url, header=None, delim_whitespace=True)\n",
    "\n",
    "url = \"http://archive.ics.uci.edu/ml/machine-learning-databases/secom/secom_labels.data\"\n",
    "y = pd.read_table(url, header=None, usecols=[0], squeeze=True, delim_whitespace=True)\n",
    "\n",
    "print 'The dataset has {} observations/rows and {} variables/columns.' \\\n",
    "       .format(secom.shape[0], secom.shape[1])\n",
    "print 'The ratio of majority class to minority class is {}:1.' \\\n",
    "      .format(int(y[y == -1].size/y[y == 1].size))"
   ]
  },
  {
   "cell_type": "markdown",
   "metadata": {},
   "source": [
    "<h3>II. Preprocessing </h3>"
   ]
  },
  {
   "cell_type": "markdown",
   "metadata": {},
   "source": [
    "We process the missing values first, dropping columns which have a large number of missing values and imputing values for those that have only a few missing values.\n",
    "The [one-class SVM](https://github.com/Meena-Mani/SECOM_class_imbalance/blob/master/secomdata_ocsvm.ipynb) exercise has a more detailed version of these steps."
   ]
  },
  {
   "cell_type": "code",
   "execution_count": 3,
   "metadata": {
    "collapsed": false
   },
   "outputs": [
    {
     "name": "stdout",
     "output_type": "stream",
     "text": [
      "The SECOM data set now has 409 variables.\n"
     ]
    }
   ],
   "source": [
    "# dropping columns which have large number of missing entries \n",
    "\n",
    "m = map(lambda x: sum(secom[x].isnull()), xrange(secom.shape[1]))\n",
    "m_200thresh = filter(lambda i: (m[i] > 200), xrange(secom.shape[1]))\n",
    "secom_drop_200thresh = secom.dropna(subset=[m_200thresh], axis=1)\n",
    "dropthese = [x for x in secom_drop_200thresh.columns.values if \\\n",
    "             secom_drop_200thresh[x].std() == 0]\n",
    "secom_drop_200thresh.drop(dropthese, axis=1, inplace=True)\n",
    "\n",
    "print 'The SECOM data set now has {} variables.'\\\n",
    "      .format(secom_drop_200thresh.shape[1])"
   ]
  },
  {
   "cell_type": "code",
   "execution_count": 4,
   "metadata": {
    "collapsed": true
   },
   "outputs": [],
   "source": [
    "# imputing missing values for the random forest\n",
    "\n",
    "imp = Imputer(missing_values='NaN', strategy='median', axis=0)\n",
    "secom_imp = imp.fit_transform(secom_drop_200thresh)"
   ]
  },
  {
   "cell_type": "code",
   "execution_count": 5,
   "metadata": {
    "collapsed": true
   },
   "outputs": [],
   "source": [
    "# split data into train and holdout sets\n",
    "# stratify the sample used for modeling to preserve the class proportions\n",
    "\n",
    "X_train, X_test, y_train, y_test = tts(secom_imp, y, \\\n",
    "                                   test_size=0.2, stratify=y, random_state=5)"
   ]
  },
  {
   "cell_type": "markdown",
   "metadata": {},
   "source": [
    "<h3>III. Random Forest Classification (RFC)</h3>  \n",
    "\n",
    "We will vary the `class_weight` parameter and evaluate the performance using the [Matthews correlation coefficient](http://scikit-learn.org/stable/modules/generated/sklearn.metrics.matthews_corrcoef.html) (<i>MCC</i>). When there is a large skew in the class balance, the overall classification accuracy is not a good performance measure since the True Negatives (the majority class elements correctly classified) dominate the score in these cases. The <i>MCC</i> is an alternative score which uses all four values of the confusion matrix and is therefore considered more balanced."
   ]
  },
  {
   "cell_type": "markdown",
   "metadata": {},
   "source": [
    "<h4>1) RFC baseline</h4>\n",
    "\n",
    "Both the classes are equally weighted with a weight of one. The other parameters, with the exception of the number of trees (<i>n_estimators</i>) and the out-of-bag score (<i>oob_score</i>), are set to default values."
   ]
  },
  {
   "cell_type": "code",
   "execution_count": 6,
   "metadata": {
    "collapsed": false
   },
   "outputs": [
    {
     "name": "stdout",
     "output_type": "stream",
     "text": [
      "The confusion matrix: \n",
      "[[293   0]\n",
      " [ 21   0]]\n",
      "\n",
      "The True Positive rate is: 0.00\n",
      "\n",
      "The Matthews correlation coefficient: 0.00\n",
      "\n",
      "The accuracy is: 0.93\n",
      "\n",
      "The OOB score: 0.93\n"
     ]
    }
   ],
   "source": [
    "rfc_default = RandomForestClassifier(n_estimators=100, random_state=7,\n",
    "                                    oob_score=True)\n",
    "rfc_default.fit(X_train, y_train)\n",
    "y_pred = rfc_default.predict(X_test)\n",
    "\n",
    "print 'The confusion matrix: '\n",
    "cm = confusion_matrix(y_test, y_pred)\n",
    "print cm\n",
    "print '\\nThe True Positive rate is: {0:4.2f}' \\\n",
    ".format(float(cm[1][1])/np.sum(cm[1]))\n",
    "print '\\nThe Matthews correlation coefficient: {0:3.2f}'\\\n",
    ".format(matthews_corrcoef(y_test, y_pred))\n",
    "print '\\nThe accuracy is: {0:4.2f}' \\\n",
    ".format(accuracy_score(y_test, y_pred))\n",
    "print '\\nThe OOB score: {0:4.2f}' \\\n",
    ".format(rfc_default.oob_score_)"
   ]
  },
  {
   "cell_type": "markdown",
   "metadata": {},
   "source": [
    "We can see from the confusion matrix (CM) the True Positive Rate --the accuracy for the minority class -- is zero (see bottom right of the CM). The MCC score, which is 0, reflects this whereas scores such as accuracy (0.93) or the OOB score (0.93) do not."
   ]
  },
  {
   "cell_type": "markdown",
   "metadata": {},
   "source": [
    "<h4>2) RFC: assigning class weights</h4>  \n",
    "\n",
    "We will see how by changing the class weights to the ratio of the class frequencies, the MCC score increases compared to the baseline.    \n",
    "Applying additional parameters such as the `n_estimators` and `min_samples_split` options along with the `class_weight` can improve the MCC score further. \n",
    "\n",
    "Finally, since it has been suggested that the OOB estimate of the accuracy can be used to select the the best `class_weight` parameter <a href=\"#ref2\">[2. See Sec. 2.3]</a>, we will look at the OOB estimate for different `class_weight` inputs."
   ]
  },
  {
   "cell_type": "code",
   "execution_count": 7,
   "metadata": {
    "collapsed": false
   },
   "outputs": [],
   "source": [
    "# function to evaluate the RFC model by varying\n",
    "# the class weights and some other parameters\n",
    "\n",
    "def rfc_classweights(class_weight, n_estimators, min_samples_split, verbose):\n",
    "  \n",
    "    rfc_cw = RandomForestClassifier(n_estimators=n_estimators, \n",
    "                                    class_weight=class_weight,\n",
    "                                    min_samples_split=min_samples_split,\n",
    "                                    random_state=7,\n",
    "                                    oob_score=True)\n",
    "    rfc_cw.fit(X_train, y_train)\n",
    "    y_pred = rfc_cw.predict(X_test)\n",
    "    \n",
    "    if verbose: # print\n",
    "        print 'The confusion matrix: '\n",
    "        cm = confusion_matrix(y_test, y_pred)\n",
    "        print cm\n",
    "        print '\\nThe True Positive rate is: {0:4.2}' \\\n",
    "        .format(float(cm[1][1])/np.sum(cm[1]))\n",
    "        print '\\nThe Matthews correlation coefficient: {0:4.3f}'\\\n",
    "        .format(matthews_corrcoef(y_test, y_pred))\n",
    "        print '\\nThe OOB score: {0:4.3f}' .format(rfc_cw.oob_score_)\n",
    "    else:  # don't print, compute  probs instead\n",
    "        y_prob = rfc_cw.predict_proba(X_test)\n",
    "        return y_prob       "
   ]
  },
  {
   "cell_type": "code",
   "execution_count": 8,
   "metadata": {
    "collapsed": false
   },
   "outputs": [
    {
     "name": "stdout",
     "output_type": "stream",
     "text": [
      "The confusion matrix: \n",
      "[[291   2]\n",
      " [ 20   1]]\n",
      "\n",
      "The True Positive rate is: 0.048\n",
      "\n",
      "The Matthews correlation coefficient: 0.105\n",
      "\n",
      "The OOB score: 0.925\n"
     ]
    }
   ],
   "source": [
    "# changing the class_weight ratio to 0.8/0.2\n",
    "\n",
    "rfc_classweights({-1:.8, 1:.2}, 100, 3, 1)"
   ]
  },
  {
   "cell_type": "code",
   "execution_count": 9,
   "metadata": {
    "collapsed": false
   },
   "outputs": [
    {
     "name": "stdout",
     "output_type": "stream",
     "text": [
      "The confusion matrix: \n",
      "[[291   2]\n",
      " [ 19   2]]\n",
      "\n",
      "The True Positive rate is: 0.095\n",
      "\n",
      "The Matthews correlation coefficient: 0.197\n",
      "\n",
      "The OOB score: 0.923\n"
     ]
    }
   ],
   "source": [
    "# adjusting class weigths in the proportion of class frequencies\n",
    "\n",
    "rfc_classweights({-1:.93, 1:.07}, 100, 3, 1)"
   ]
  },
  {
   "cell_type": "code",
   "execution_count": 10,
   "metadata": {
    "collapsed": false
   },
   "outputs": [
    {
     "name": "stdout",
     "output_type": "stream",
     "text": [
      "The confusion matrix: \n",
      "[[292   1]\n",
      " [ 19   2]]\n",
      "\n",
      "The True Positive rate is: 0.095\n",
      "\n",
      "The Matthews correlation coefficient: 0.236\n",
      "\n",
      "The OOB score: 0.925\n"
     ]
    }
   ],
   "source": [
    "# optimizing by selecting n_estimators=500 (number of trees)\n",
    "# min_samples_split=5 (min samples for splitting node)\n",
    "\n",
    "rfc_classweights({-1:.93, 1:.07}, 500, 5, 1)"
   ]
  },
  {
   "cell_type": "markdown",
   "metadata": {},
   "source": [
    "With the class weight ratio in proportion to the class frequencies (0.93 and 0.07), the MCC changes from the baseline 0 to 0.197. The score further improves to 0.236 when the parameters are set to `n_estimators`=500 and `min_samples_split`=5.\n",
    "\n",
    "In all these cases (the baseline, the `class_weight` at  0.8/0.2 and 0.93/0.07), the OOB score --which calculates generalization accuracy-- remains unchanged around 0.92. Since the OOB estimate only reflects the accuracy, we will not use it to select the optimal class weighting."
   ]
  },
  {
   "cell_type": "markdown",
   "metadata": {},
   "source": [
    "<h4>3) RFC: assigning sample weights</h4>  \n",
    "\n",
    "The `sample_weight` which is an option provided with the `fit` method is another way to weight the classes. It has the same effect as the class weight so we should expect similar results. As explained [here](http://stackoverflow.com/a/34661470), the two options allow the weighting routine to be accessed in different ways. "
   ]
  },
  {
   "cell_type": "code",
   "execution_count": 11,
   "metadata": {
    "collapsed": false
   },
   "outputs": [
    {
     "name": "stdout",
     "output_type": "stream",
     "text": [
      "The confusion matrix: \n",
      "[[291   2]\n",
      " [ 19   2]]\n",
      "\n",
      "The Matthews correlation coefficient: 0.197\n",
      "\n",
      "The OOB score: 0.924\n"
     ]
    }
   ],
   "source": [
    "# the sample weight uses a 1D-array of weights as input\n",
    "sample_weight = np.array([14 if i == -1 else 1 for i in y_train])\n",
    "\n",
    "rfc_sw = RandomForestClassifier(n_estimators=100, random_state=7, \n",
    "                                min_samples_split=3, oob_score=True)\n",
    "rfc_sw.fit(X_train, y_train, sample_weight)\n",
    "y_pred = rfc_sw.predict(X_test)\n",
    "\n",
    "print 'The confusion matrix: '\n",
    "cm = confusion_matrix(y_test, y_pred)\n",
    "print cm\n",
    "print '\\nThe Matthews correlation coefficient: {0:4.3f}'\\\n",
    ".format(matthews_corrcoef(y_test, y_pred))\n",
    "print '\\nThe OOB score: {0:4.3f}'.format(rfc_sw.oob_score_)"
   ]
  },
  {
   "cell_type": "markdown",
   "metadata": {},
   "source": [
    "When the weights assigned are in proportion to the class frequencies (and `n_estimators`=100, `min_samples_split`=3), both the `sample_weight` and `class_weight` options give similar results. The MCC score is 0.197 in both cases."
   ]
  },
  {
   "cell_type": "markdown",
   "metadata": {},
   "source": [
    "<h4>4) Hyperparameter selection via cross-validation</h4>\n",
    "\n",
    "The usual way to select parameters is via grid-search and cross-validation (CV). The default CV scoring is based on the accuracy so we will replace this with an MCC scorer. "
   ]
  },
  {
   "cell_type": "code",
   "execution_count": 7,
   "metadata": {
    "collapsed": false
   },
   "outputs": [],
   "source": [
    "# defining the MCC metric to assess cross-validation\n",
    "\n",
    "def mcc_score(y_true, y_pred):\n",
    "    mcc = matthews_corrcoef(y_true, y_pred)\n",
    "    return mcc\n",
    "    \n",
    "mcc_scorer = make_scorer(mcc_score, greater_is_better=True)"
   ]
  },
  {
   "cell_type": "code",
   "execution_count": 13,
   "metadata": {
    "collapsed": false
   },
   "outputs": [
    {
     "name": "stdout",
     "output_type": "stream",
     "text": [
      "GridSearchCV took 9297.66 seconds for 216 candidate parameter settings.\n"
     ]
    }
   ],
   "source": [
    "# cross-validation\n",
    "\n",
    "#n_estimators = 500 gives better results \n",
    "clf = RandomForestClassifier(n_estimators=500, random_state=7, n_jobs=-1)\n",
    "\n",
    "param_grid = {\"max_depth\": [3, 8, None],\n",
    "              \"class_weight\": [{-1:.90, 1:.10}, {-1:.93, 1:.07}, {-1:.99, 1:.01}],\n",
    "              \"min_samples_split\": [2, 3, 5],\n",
    "              \"max_features\": [\"sqrt\", \"log2\", \"auto\", None],\n",
    "              \"criterion\": [\"gini\", \"entropy\"]}\n",
    "\n",
    "# run grid search\n",
    "grid_search = GridSearchCV(clf, param_grid=param_grid,  scoring=mcc_scorer)\n",
    "start = time()\n",
    "grid_search.fit(X_train, y_train)\n",
    "\n",
    "print(\"GridSearchCV took %.2f seconds for %d candidate parameter settings.\"\n",
    "     % (time() - start, len(grid_search.grid_scores_)))\n"
   ]
  },
  {
   "cell_type": "code",
   "execution_count": 14,
   "metadata": {
    "collapsed": false
   },
   "outputs": [
    {
     "name": "stdout",
     "output_type": "stream",
     "text": [
      "The best parameters:\n",
      "{'max_features': 'sqrt', 'min_samples_split': 5, 'criterion': 'gini', 'max_depth': None, 'class_weight': {1: 0.01, -1: 0.99}}\n",
      "\n",
      "Results for model fitted with the best parameter:\n",
      "             precision    recall  f1-score   support\n",
      "\n",
      "         -1       0.94      1.00      0.97       293\n",
      "          1       0.67      0.10      0.17        21\n",
      "\n",
      "avg / total       0.92      0.94      0.91       314\n",
      "\n",
      "The confusion matrix: \n",
      "[[292   1]\n",
      " [ 19   2]]\n",
      "\n",
      "The True Positive rate is: 0.095\n",
      "\n",
      "The Matthews correlation coefficient: 0.236\n"
     ]
    }
   ],
   "source": [
    "print 'The best parameters:'\n",
    "print '{}\\n'. format(grid_search.best_params_)\n",
    "\n",
    "print 'Results for model fitted with the best parameter:'\n",
    "y_true, y_pred = y_test, grid_search.predict(X_test)\n",
    "print(classification_report(y_true, y_pred))\n",
    "\n",
    "print 'The confusion matrix: '\n",
    "cm = confusion_matrix(y_true, y_pred)\n",
    "print cm\n",
    "\n",
    "print '\\nThe True Positive rate is: {0:4.2}'\\\n",
    ".format(float(cm[1][1])/np.sum(cm[1]))\n",
    "\n",
    "print '\\nThe Matthews correlation coefficient: {0:4.3f}'\\\n",
    ".format(matthews_corrcoef(y_test, y_pred))"
   ]
  },
  {
   "cell_type": "markdown",
   "metadata": {},
   "source": [
    "The CV was based on the MCC score and the MCC for the best model is 0.236. Some of the parameters (`max_features`= sqrt, `criterion` = gini, `max_depth` = None) for the best model are default options. The `class_weight` is 0.99/.01 and `min_samples_split` is 5. The number of trees was set at 500 because we saw this gave the best_results in Section III (3) above.    \n",
    "A model we ran (Section III (3)) with the same parameters and a `class_weight` of .93/.07 also had an MCC of 0.236 and this appears to be the best we can do with the RF classifier."
   ]
  },
  {
   "cell_type": "markdown",
   "metadata": {},
   "source": [
    "<h4>5) ROC curves</h4>"
   ]
  },
  {
   "cell_type": "code",
   "execution_count": 15,
   "metadata": {
    "collapsed": false
   },
   "outputs": [
    {
     "data": {
      "image/png": "[encoded data removed]",
      "text/plain": [
       "<matplotlib.figure.Figure at 0x10c60f390>"
      ]
     },
     "metadata": {},
     "output_type": "display_data"
    }
   ],
   "source": [
    "#plot for baseline\n",
    "y_prob = rfc_default.predict_proba(X_test)\n",
    "fpr, tpr, _ = roc_curve(y_test, y_prob[:,1])\n",
    "roc_auc = auc(fpr, tpr)\n",
    "plt.figure(figsize=(8,6.5))\n",
    "plt.plot(fpr, tpr, color='red', lw=2, linestyle=':',\n",
    "                 label='baseline (area = {0:0.2f})'\n",
    "                 ''.format(roc_auc))\n",
    "\n",
    "# plot for weighted classes\n",
    "# class_weights .93/.07, n_estimators=500, min_samples_split=5\n",
    "y_prob = rfc_classweights({-1:.93, 1:.07}, 500, 5, 0)\n",
    "fpr, tpr, _ = roc_curve(y_test, y_prob[:,1])\n",
    "roc_auc = auc(fpr, tpr)\n",
    "plt.plot(fpr, tpr, color='magenta', lw=2, linestyle='-.',\n",
    "                 label='weighted (area = {0:0.2f})'\n",
    "                 ''.format(roc_auc))\n",
    "\n",
    "\n",
    "# plot for optimal CV hyperparameters\n",
    "y_prob = grid_search.predict_proba(X_test)\n",
    "fpr, tpr, _ = roc_curve(y_test, y_prob[:,1])\n",
    "roc_auc = auc(fpr, tpr)\n",
    "plt.plot(fpr, tpr, color='turquoise', lw=2, linestyle='-',\n",
    "                 label='best CV (area = {0:0.2f})'\n",
    "                 ''.format(roc_auc))\n",
    "\n",
    "plt.plot([0, 1], [0, 1], 'k--', lw=1)\n",
    "plt.xlim([0.0, 1.0])\n",
    "plt.ylim([0.0, 1.05])\n",
    "plt.xlabel('False Positive Rate')\n",
    "plt.ylabel('True Positive Rate')\n",
    "plt.title('ROC curves for Baseline, Weighted and CV', fontsize=14)\n",
    "plt.legend(title='AUC', loc=\"lower right\")\n",
    "\n",
    "plt.show()"
   ]
  },
  {
   "cell_type": "markdown",
   "metadata": {},
   "source": [
    "The AUC values are the same for the baseline, the weighted and the optimal model via cross-validation. [To complete later]"
   ]
  },
  {
   "cell_type": "markdown",
   "metadata": {},
   "source": [
    "<h4>6) A more parsimonious model</h4>\n",
    "\n",
    "In the experiments above, after preprocessing for the missing data, all the 409 features available were used. The RF variable importance can rank features in order of importance and in the [One-class SVM](https://github.com/Meena-Mani/SECOM_class_imbalance/blob/master/secomdata_ocsvm.ipynb) exercise, we saw that some of the RF features had a variable importance score of zero. In this section, we will compute the MCC for RF models where for each subsequent model, the number of features (included in order of rank) is incremented. "
   ]
  },
  {
   "cell_type": "code",
   "execution_count": 8,
   "metadata": {
    "collapsed": false
   },
   "outputs": [
    {
     "name": "stdout",
     "output_type": "stream",
     "text": [
      "Feature Rank:\n",
      "  1 column  55  0.0176\n",
      "  2 column 176  0.0135\n",
      "  3 column 131  0.0122\n",
      "  4 column  61  0.0119\n",
      "  5 column  90  0.0113\n",
      "  6 column  85  0.0112\n",
      "  7 column 311  0.0108\n",
      "  8 column 325  0.0104\n",
      "\n",
      "\n",
      "407 column  172  0.0000\n",
      "408 column   62  0.0000\n",
      "409 column  352  0.0000\n"
     ]
    }
   ],
   "source": [
    "# we use a DataFrame to acess ranked columns\n",
    "X_train = pd.DataFrame(X_train) \n",
    "X_test = pd.DataFrame(X_test)\n",
    "\n",
    "# the RF model is weighted\n",
    "rfc_p1 = RandomForestClassifier(n_estimators=500, \n",
    "                                class_weight={-1:.93, 1:.07},\n",
    "                                min_samples_split=5,\n",
    "                                random_state=7)\n",
    "rfc_p1.fit(X_train, y_train)\n",
    "\n",
    "importance = rfc_p1.feature_importances_\n",
    "ranked_indices = np.argsort(importance)[::-1]\n",
    "\n",
    "# print out the features, their rank \n",
    "print \"Feature Rank:\"\n",
    "for i in range(8):\n",
    "    print \"{0:3d} column {1:3d}  {2:6.4f}\"\\\n",
    "    .format(i+1, ranked_indices[i], importance[ranked_indices[i]])\n",
    "print \"\\n\"\n",
    "for i in xrange(len(importance)-3,len(importance)):\n",
    "    print \"{0:3d} column  {1:3d}  {2:6.4f}\"\\\n",
    "    .format(i+1, ranked_indices[i], importance[ranked_indices[i]])"
   ]
  },
  {
   "cell_type": "code",
   "execution_count": 12,
   "metadata": {
    "collapsed": true
   },
   "outputs": [],
   "source": [
    "# Compute MCC for different RF models. \n",
    "# The number of ranked features is increased for each subsequent model\n",
    "\n",
    "mcc_scores = []\n",
    "nfeatures = np.arange(40, 401, 20) # no. of features used\n",
    "rfc_p2 = RandomForestClassifier(n_estimators=500, \n",
    "                                class_weight={-1:.93, 1:.07},\n",
    "                                min_samples_split=5, random_state=7)\n",
    "\n",
    "for i in nfeatures:\n",
    "   rfc_p2.fit(X_train[ranked_indices[:i]], y_train)\n",
    "   y_pred = rfc_p2.predict(X_test[ranked_indices[:i]])\n",
    "\n",
    "   mcc_scores = np.append(mcc_scores, matthews_corrcoef(y_test, y_pred))"
   ]
  },
  {
   "cell_type": "code",
   "execution_count": 18,
   "metadata": {
    "collapsed": false
   },
   "outputs": [
    {
     "data": {
      "image/png": "[encoded data removed]",
      "text/plain": [
       "<matplotlib.figure.Figure at 0x10c60f190>"
      ]
     },
     "metadata": {},
     "output_type": "display_data"
    }
   ],
   "source": [
    "# plot the MCC scores \n",
    "\n",
    "plt.figure(figsize=(6,4.5))\n",
    "plt.plot(nfeatures, mcc_scores, 'm')\n",
    "plt.axvline(180, color='gray', linestyle='dotted')\n",
    "plt.text(184, 0.14, 'n = 180', rotation='vertical', fontsize=12)\n",
    "plt.axhline(y=.23, color='gray', linestyle='dotted')\n",
    "plt.text(30, 0.235, 'MCC = 0.23', fontsize=12)\n",
    "#plt.xlabel('No of ranked features')\n",
    "#plt.ylabel('MCC')\n",
    "plt.ylim([0.0, 0.30])\n",
    "plt.title('MCC score vs No. of ranked features used', fontsize=14)\n",
    "plt.show()"
   ]
  },
  {
   "cell_type": "markdown",
   "metadata": {},
   "source": [
    "From the plot we see that the MCC score of 0.236 stabilizes after n = 180 (<i>n</i> is the number of features used). The variation we see beyond that can be attributed to the inherent variability in the RF runs. One of the characteristics of the random forest algorithm is that it performs well even with a large number of features and we see that using a larger number of variables does not impair the RF performance in our experiments either."
   ]
  },
  {
   "cell_type": "markdown",
   "metadata": {
    "collapsed": true
   },
   "source": [
    "<h3>IV. Summary</h3>\n",
    "\n",
    "Here we were interested in the performance improvements we would get with a weighted Random Forest applied to a heavily skewed data set. The Matthews correlation coefficient was 0.236 for the best models.\n",
    "\n",
    "In a previous exercise we had experimented with [SVM+oversampling using SMOTE](https://github.com/Meena-Mani/SECOM_class_imbalance/blob/master/secomdata_svm_smote.ipynb) and we had obtained similar performance for the MCC but the AUC score were marginally better. The SVM combined with a sampling strategy holds promise and we  will next look at a combination of oversampling (the minority class) and undersampling (the majority class)."
   ]
  },
  {
   "cell_type": "markdown",
   "metadata": {},
   "source": [
    "<h3>V. References and Further Reading </h3>\n",
    "\n",
    "<a name=\"ref1\"></a>[1] [Fernández-Delgado, Manuel, et al. \"Do we need hundreds of classifiers to solve real world classification problems.\" J. Mach. Learn. Res 15.1 (2014): 3133-3181.](http://www.jmlr.org/papers/volume15/delgado14a/delgado14a.pdf)\n",
    "\n",
    "<a name=\"ref2\"></a>[2] [Chao Chen, Andy Liaw, Leo Breiman. \"Using Random Forest to Learn Imbalanced Data.\" Report ID 666. Retrieved from Univ. of California Berkeley Mathematics Statistics Library. (2004)](http://digitalassets.lib.berkeley.edu/sdtr/ucb/text/666.pdf)\n"
   ]
  },
  {
   "cell_type": "markdown",
   "metadata": {},
   "source": [
    "<div style=\"background-color: #FAAC58; margin-left: 0px; margin-right: 20px; padding-bottom: 8px; padding-left: 8px; padding-right: 8px; padding-top: 8px;\">\n",
    "\n",
    "\n",
    "Author:  Meena Mani  <br>\n",
    "email:   meenas.mailbag@gmail.com   <br> \n",
    "twitter: @meena_uvaca    <br>\n",
    "</div>"
   ]
  }
 ],
 "metadata": {
  "kernelspec": {
   "display_name": "Python 2",
   "language": "python",
   "name": "python2"
  },
  "language_info": {
   "codemirror_mode": {
    "name": "ipython",
    "version": 2
   },
   "file_extension": ".py",
   "mimetype": "text/x-python",
   "name": "python",
   "nbconvert_exporter": "python",
   "pygments_lexer": "ipython2",
   "version": "2.7.8"
  }
 },
 "nbformat": 4,
 "nbformat_minor": 0
}
